{
 "cells": [
  {
   "cell_type": "code",
   "execution_count": null,
   "id": "77656691-23d2-4f79-a504-d57efca29ddd",
   "metadata": {},
   "outputs": [],
   "source": [
    "# Yongkang Liu\n",
    "import sys # modules in sys.path directories's are all available for import\n",
    "sys.path.append('./DevelopedMethods')\n",
    "from preprocessing import * # import our pre-processed dataset + imports.py (np, pd, df, df_train, X_train_balanced etc.)"
   ]
  },
  {
   "cell_type": "code",
   "execution_count": 5,
   "id": "b9975a04-ab98-491a-a85a-4b6f627a7d57",
   "metadata": {},
   "outputs": [],
   "source": [
    "# your classifier here"
   ]
  },
  {
   "cell_type": "markdown",
   "id": "3ed7f868-3b3f-4549-9677-33279d151f44",
   "metadata": {},
   "source": [
    "# ROC / AUC"
   ]
  },
  {
   "cell_type": "code",
   "execution_count": null,
   "id": "d3b9e984-fecd-4ad8-93df-938d6f0989ba",
   "metadata": {},
   "outputs": [],
   "source": [
    "# #Estimating the probability of Credit Card Fraud Label\n",
    "# yourclassifier__prediction_probability = yourclassfier.predict_proba(X_test_balanced)\n",
    "\n",
    "# #Calculating true positive rate(tpr) and false positive rate(fpr)\n",
    "# fpr, tpr, thresholds = metrics.roc_curve(y_test_balanced, yourclassifier_prediction_probability[:,1], pos_label=1)\n",
    "\n",
    "# #Calculating Area Under Curve\n",
    "# AUC = metrics.auc(fpr, tpr)\n",
    "# print(\"Area Under Curve: \")\n",
    "# print(AUC)\n",
    "\n",
    "# #Plotting graph for ROC Curve\n",
    "# plt.figure()\n",
    "# plt.plot(fpr, tpr, color='red', lw=2, label='ROC Curve (area = %0.2f) ' % AUC)\n",
    "\n",
    "# #Defining range of x and y axes\n",
    "# plt.xlim([-0.005, 1.005])\n",
    "# plt.ylim([0.0, 1.01])\n",
    "\n",
    "# #Defining labels, title and legend for graph\n",
    "# plt.xlabel(\"False Positive Rate\")\n",
    "# plt.ylabel(\"True Positive Rate\")\n",
    "# plt.title(\"Receiver Operating Characteristic\")\n",
    "# plt.legend(loc='lower right');"
   ]
  },
  {
   "cell_type": "markdown",
   "id": "dbb10bc2-4109-4504-9e96-b0147b21e532",
   "metadata": {},
   "source": [
    "# Feature importance Analysis K-Means Clustering\n",
    "K-Means is an unsupervised algorithm, so it doesn’t directly compute feature importance. However, you can analyze feature contributions indirectly:\n",
    "Approach: Measure variance by feature.\n",
    "Features with higher variance often influence the clustering process more significantly.\n",
    "Scale your data (e.g., using StandardScaler) before clustering to ensure all features contribute equally.\n",
    "Compute feature means for each cluster and analyze how features differ between clusters.\n",
    "```# Example: Calculate feature variance within clusters\n",
    "cluster_centers = kmeans.cluster_centers_\n",
    "feature_importance = np.std(cluster_centers, axis=0)  # Variance of feature means\n",
    "importance_df = pd.DataFrame({'Feature': feature_names, 'Importance': feature_importance})\n",
    "```"
   ]
  },
  {
   "cell_type": "code",
   "execution_count": null,
   "id": "010204fe-b8ed-4f4e-aa46-9d2c60769051",
   "metadata": {},
   "outputs": [],
   "source": []
  }
 ],
 "metadata": {
  "kernelspec": {
   "display_name": "Python 3 (ipykernel)",
   "language": "python",
   "name": "python3"
  },
  "language_info": {
   "codemirror_mode": {
    "name": "ipython",
    "version": 3
   },
   "file_extension": ".py",
   "mimetype": "text/x-python",
   "name": "python",
   "nbconvert_exporter": "python",
   "pygments_lexer": "ipython3",
   "version": "3.12.4"
  }
 },
 "nbformat": 4,
 "nbformat_minor": 5
}
