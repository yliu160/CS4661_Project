{
 "cells": [
  {
   "cell_type": "code",
   "execution_count": null,
   "id": "ddde33fb-3d1b-4637-ad54-f7e8e2d02795",
   "metadata": {},
   "outputs": [],
   "source": [
    "# Weihao Liu\n",
    "import sys # modules in sys.path directories's are all available for import\n",
    "sys.path.append('./DevelopedMethods')\n",
    "from preprocessing import * # import our pre-processed dataset + imports.py (np, pd, df, df_train, X_train_balanced etc.)"
   ]
  },
  {
   "cell_type": "markdown",
   "id": "72737efc-c571-47a9-8b90-4e04c55dd149",
   "metadata": {},
   "source": [
    "# WARNING: DO NOT RUN ——IT IS TOO SLOW (THE DATASET IS TOO LARGE)"
   ]
  },
  {
   "cell_type": "code",
   "execution_count": null,
   "id": "e761fa47-76d1-49b4-9f5b-033da59da591",
   "metadata": {},
   "outputs": [],
   "source": [
    "#Instantiating KNeighborsClassifier object\n",
    "k=3\n",
    "ccfd_kneighbors = KNeighborsClassifier(n_neighbors=k, weights = 'uniform')\n",
    "\n",
    "#Training the model\n",
    "ccfd_kneighbors.fit(X_train_balanced,  y_train_balanced)\n",
    "\n",
    "#Using newly trained model with X_test_balanced to predict for Credit Card Fraud\n",
    "kneighbors_prediction = ccfd_kneighbors.predict(X_test_balanced)\n",
    "\n",
    "#Evaluating accuracy of model by comparing predicted labels with y_test values (actual)\n",
    "score_kn = metrics.accuracy_score(y_test_balanced, kneighbors_prediction)\n",
    "\n",
    "#Displaying final accuracy score\n",
    "print(\"Accuracy Score: \", score_kn)"
   ]
  },
  {
   "cell_type": "markdown",
   "id": "527b8318-95f2-4875-944f-329037045f54",
   "metadata": {},
   "source": [
    "# ROC / AUC"
   ]
  },
  {
   "cell_type": "code",
   "execution_count": 1,
   "id": "b8c4f383-916b-41ae-a98e-8e67d75725b6",
   "metadata": {},
   "outputs": [],
   "source": [
    "#Estimating the probability of Credit Card Fraud Label\n",
    "kneighbors_prediction_probability = ccfd_kneighbors.predict_proba(X_test_balanced)\n",
    "\n",
    "#Calculating true positive rate(tpr) and false positive rate(fpr)\n",
    "fpr, tpr, thresholds = metrics.roc_curve(y_test_balanced, kneighbors_prediction_probability[:,1], pos_label=1)\n",
    "\n",
    "#Calculating Area Under Curve\n",
    "AUC = metrics.auc(fpr, tpr)\n",
    "print(\"Area Under Curve: \")\n",
    "print(AUC)\n",
    "\n",
    "#Plotting graph for ROC Curve\n",
    "plt.figure()\n",
    "plt.plot(fpr, tpr, color='blue', lw=2, label='ROC Curve (area = %0.2f) ' % AUC)\n",
    "\n",
    "#Defining range of x and y axes\n",
    "plt.xlim([-0.005, 1.005])\n",
    "plt.ylim([0.0, 1.01])\n",
    "\n",
    "#Defining labels, title and legend for graph\n",
    "plt.xlabel(\"False Positive Rate\")\n",
    "plt.ylabel(\"True Positive Rate\")\n",
    "plt.title(\"Receiver Operating Characteristic\")\n",
    "plt.legend(loc='lower right');"
   ]
  },
  {
   "cell_type": "markdown",
   "id": "c0b625e1-7bb2-4a05-bab4-271a0cbad9d9",
   "metadata": {},
   "source": [
    "# Feature importance Analysis K-Nearest Neighbors (KNN)\n",
    "KNN is a distance-based algorithm and doesn't inherently provide feature importance.\n",
    "Approach 1: Permutation importance.\n",
    "Randomly shuffle the values of each feature and measure the impact on model accuracy.\n",
    "Approach 2: Feature scaling sensitivity.\n",
    "Evaluate model performance while systematically including or excluding features.\n",
    "```from sklearn.inspection import permutation_importance\n",
    "\n",
    "# Permutation importance for KNN\n",
    "result = permutation_importance(knn_model, X_test, y_test, n_repeats=10, random_state=42)\n",
    "importance_df = pd.DataFrame({'Feature': feature_names, 'Importance': result.importances_mean})```\n",
    "\n"
   ]
  },
  {
   "cell_type": "code",
   "execution_count": null,
   "id": "0a10bb26-f2e3-4da2-b2cc-181279af27bc",
   "metadata": {},
   "outputs": [],
   "source": [
    "# could not use KNN on our hardware/sized dataset"
   ]
  }
 ],
 "metadata": {
  "kernelspec": {
   "display_name": "Python 3 (ipykernel)",
   "language": "python",
   "name": "python3"
  },
  "language_info": {
   "codemirror_mode": {
    "name": "ipython",
    "version": 3
   },
   "file_extension": ".py",
   "mimetype": "text/x-python",
   "name": "python",
   "nbconvert_exporter": "python",
   "pygments_lexer": "ipython3",
   "version": "3.12.4"
  }
 },
 "nbformat": 4,
 "nbformat_minor": 5
}
