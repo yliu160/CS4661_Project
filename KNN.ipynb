{
 "cells": [
  {
   "cell_type": "code",
   "execution_count": null,
   "id": "8720a90c-9166-4aa3-9450-7de9259a096c",
   "metadata": {},
   "outputs": [],
   "source": [
    "# Weihao Liu\n",
    "import sys # modules in sys.path directories's are all available for import\n",
    "sys.path.append('./DevelopedMethods')\n",
    "from preprocessing import * # import our pre-processed dataset + imports.py (np, pd, df, df_train, X_train_balanced etc.)"
   ]
  },
  {
   "cell_type": "code",
   "execution_count": null,
   "id": "8e9dfb4c-1b25-4244-af47-b728a82f6d49",
   "metadata": {},
   "outputs": [],
   "source": [
    "# your classifier here"
   ]
  },
  {
   "cell_type": "markdown",
   "id": "527b8318-95f2-4875-944f-329037045f54",
   "metadata": {},
   "source": [
    "# ROC / AUC"
   ]
  },
  {
   "cell_type": "code",
   "execution_count": 1,
   "id": "b8c4f383-916b-41ae-a98e-8e67d75725b6",
   "metadata": {},
   "outputs": [],
   "source": [
    "# #Estimating the probability of Credit Card Fraud Label\n",
    "# yourclassifier__prediction_probability = yourclassfier.predict_proba(X_test_balanced)\n",
    "\n",
    "# #Calculating true positive rate(tpr) and false positive rate(fpr)\n",
    "# fpr, tpr, thresholds = metrics.roc_curve(y_test_balanced, yourclassifier_prediction_probability[:,1], pos_label=1)\n",
    "\n",
    "# #Calculating Area Under Curve\n",
    "# AUC = metrics.auc(fpr, tpr)\n",
    "# print(\"Area Under Curve: \")\n",
    "# print(AUC)\n",
    "\n",
    "# #Plotting graph for ROC Curve\n",
    "# plt.figure()\n",
    "# plt.plot(fpr, tpr, color='red', lw=2, label='ROC Curve (area = %0.2f) ' % AUC)\n",
    "\n",
    "# #Defining range of x and y axes\n",
    "# plt.xlim([-0.005, 1.005])\n",
    "# plt.ylim([0.0, 1.01])\n",
    "\n",
    "# #Defining labels, title and legend for graph\n",
    "# plt.xlabel(\"False Positive Rate\")\n",
    "# plt.ylabel(\"True Positive Rate\")\n",
    "# plt.title(\"Receiver Operating Characteristic\")\n",
    "# plt.legend(loc='lower right');"
   ]
  },
  {
   "cell_type": "markdown",
   "id": "c0b625e1-7bb2-4a05-bab4-271a0cbad9d9",
   "metadata": {},
   "source": [
    "# Feature importance Analysis K-Nearest Neighbors (KNN)\n",
    "KNN is a distance-based algorithm and doesn't inherently provide feature importance.\n",
    "Approach 1: Permutation importance.\n",
    "Randomly shuffle the values of each feature and measure the impact on model accuracy.\n",
    "Approach 2: Feature scaling sensitivity.\n",
    "Evaluate model performance while systematically including or excluding features.\n",
    "```from sklearn.inspection import permutation_importance\n",
    "\n",
    "# Permutation importance for KNN\n",
    "result = permutation_importance(knn_model, X_test, y_test, n_repeats=10, random_state=42)\n",
    "importance_df = pd.DataFrame({'Feature': feature_names, 'Importance': result.importances_mean})```\n",
    "\n"
   ]
  },
  {
   "cell_type": "code",
   "execution_count": null,
   "id": "0a10bb26-f2e3-4da2-b2cc-181279af27bc",
   "metadata": {},
   "outputs": [],
   "source": []
  }
 ],
 "metadata": {
  "kernelspec": {
   "display_name": "Python 3 (ipykernel)",
   "language": "python",
   "name": "python3"
  },
  "language_info": {
   "codemirror_mode": {
    "name": "ipython",
    "version": 3
   },
   "file_extension": ".py",
   "mimetype": "text/x-python",
   "name": "python",
   "nbconvert_exporter": "python",
   "pygments_lexer": "ipython3",
   "version": "3.12.4"
  }
 },
 "nbformat": 4,
 "nbformat_minor": 5
}
