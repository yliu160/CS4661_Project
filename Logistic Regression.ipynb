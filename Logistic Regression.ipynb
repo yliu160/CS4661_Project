{
 "cells": [
  {
   "cell_type": "code",
   "execution_count": null,
   "id": "68da9556-9662-4928-872a-414e6c55bc48",
   "metadata": {},
   "outputs": [],
   "source": [
    "# Weihao Liu\n",
    "import sys # modules in sys.path directories's are all available for import\n",
    "sys.path.append('./DevelopedMethods')\n",
    "from preprocessing import * # import our pre-processed dataset + imports.py (np, pd, df, df_train, X_train_balanced etc.)"
   ]
  },
  {
   "cell_type": "code",
   "execution_count": 2,
   "id": "9a2403ba-94de-4d52-87bd-966f3b801ea1",
   "metadata": {},
   "outputs": [],
   "source": [
    "# your classifier here"
   ]
  },
  {
   "cell_type": "markdown",
   "id": "91130df3-e6a9-44ee-86c2-75591a635b22",
   "metadata": {},
   "source": [
    "# ROC / AUC"
   ]
  },
  {
   "cell_type": "code",
   "execution_count": 5,
   "id": "1205c00a-d146-421b-9711-4f68fe42681a",
   "metadata": {},
   "outputs": [],
   "source": [
    "# #Estimating the probability of Credit Card Fraud Label\n",
    "# yourclassifier__prediction_probability = yourclassfier.predict_proba(X_test_balanced)\n",
    "\n",
    "# #Calculating true positive rate(tpr) and false positive rate(fpr)\n",
    "# fpr, tpr, thresholds = metrics.roc_curve(y_test_balanced, yourclassifier_prediction_probability[:,1], pos_label=1)\n",
    "\n",
    "# #Calculating Area Under Curve\n",
    "# AUC = metrics.auc(fpr, tpr)\n",
    "# print(\"Area Under Curve: \")\n",
    "# print(AUC)\n",
    "\n",
    "# #Plotting graph for ROC Curve\n",
    "# plt.figure()\n",
    "# plt.plot(fpr, tpr, color='red', lw=2, label='ROC Curve (area = %0.2f) ' % AUC)\n",
    "\n",
    "# #Defining range of x and y axes\n",
    "# plt.xlim([-0.005, 1.005])\n",
    "# plt.ylim([0.0, 1.01])\n",
    "\n",
    "# #Defining labels, title and legend for graph\n",
    "# plt.xlabel(\"False Positive Rate\")\n",
    "# plt.ylabel(\"True Positive Rate\")\n",
    "# plt.title(\"Receiver Operating Characteristic\")\n",
    "# plt.legend(loc='lower right');"
   ]
  },
  {
   "cell_type": "markdown",
   "id": "94a4f0f8-aab3-4e6c-b6bd-7f1fe435b32b",
   "metadata": {},
   "source": [
    "# Feature importance Analysis Logistic Regression\n",
    "Similar to Linear Regression, feature importance is determined by the magnitude of the coefficients.\n",
    "Standardize features for meaningful comparison.\n",
    "You can also calculate the odds ratios:\n",
    "Odds Ratio = e^coefficient\n",
    " \n",
    "```# Access coefficients and compute odds ratios\n",
    "importance_df = pd.DataFrame({\n",
    "    'Feature': feature_names,\n",
    "    'Coefficient': logistic_model.coef_[0],\n",
    "    'Odds_Ratio': np.exp(logistic_model.coef_[0])\n",
    "}).sort_values(by='Coefficient', key=abs, ascending=False)``"
   ]
  },
  {
   "cell_type": "code",
   "execution_count": null,
   "id": "3ae87530-a93c-48bc-821b-26100e7057c0",
   "metadata": {},
   "outputs": [],
   "source": []
  }
 ],
 "metadata": {
  "kernelspec": {
   "display_name": "Python 3 (ipykernel)",
   "language": "python",
   "name": "python3"
  },
  "language_info": {
   "codemirror_mode": {
    "name": "ipython",
    "version": 3
   },
   "file_extension": ".py",
   "mimetype": "text/x-python",
   "name": "python",
   "nbconvert_exporter": "python",
   "pygments_lexer": "ipython3",
   "version": "3.12.4"
  }
 },
 "nbformat": 4,
 "nbformat_minor": 5
}
