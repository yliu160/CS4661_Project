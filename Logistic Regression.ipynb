{
 "cells": [
  {
   "cell_type": "code",
   "execution_count": null,
   "id": "68da9556-9662-4928-872a-414e6c55bc48",
   "metadata": {},
   "outputs": [],
   "source": [
    "# Weihao Liu\n",
    "import sys # modules in sys.path directories's are all available for import\n",
    "sys.path.append('./DevelopedMethods')\n",
    "from preprocessing import * # import our pre-processed dataset + imports.py (np, pd, df, df_train, X_train_balanced etc.)"
   ]
  },
  {
   "cell_type": "code",
   "execution_count": null,
   "id": "9a2403ba-94de-4d52-87bd-966f3b801ea1",
   "metadata": {},
   "outputs": [],
   "source": []
  }
 ],
 "metadata": {
  "kernelspec": {
   "display_name": "Python 3 (ipykernel)",
   "language": "python",
   "name": "python3"
  },
  "language_info": {
   "codemirror_mode": {
    "name": "ipython",
    "version": 3
   },
   "file_extension": ".py",
   "mimetype": "text/x-python",
   "name": "python",
   "nbconvert_exporter": "python",
   "pygments_lexer": "ipython3",
   "version": "3.12.4"
  }
 },
 "nbformat": 4,
 "nbformat_minor": 5
}
