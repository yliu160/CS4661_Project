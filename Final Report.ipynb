{
 "cells": [
  {
   "cell_type": "code",
   "execution_count": 1,
   "id": "dccd4191-7ae2-47e2-a9ac-9f5e826a476d",
   "metadata": {},
   "outputs": [],
   "source": [
    "import sys # modules in sys.path directories's are all available for import\n",
    "sys.path.append('./DevelopedMethods')\n",
    "from preprocessing import * # import our pre-processed dataset + imports.py (np, pd, df, df_train, X_train_balanced etc.)"
   ]
  },
  {
   "cell_type": "code",
   "execution_count": 9,
   "id": "8624d781-26e5-48e1-8549-f300652d3e58",
   "metadata": {},
   "outputs": [],
   "source": [
    "# graph of all the roc curves in one plot"
   ]
  },
  {
   "cell_type": "code",
   "execution_count": null,
   "id": "1cd78fd3-a694-4ddc-b112-b81f887e15c3",
   "metadata": {},
   "outputs": [],
   "source": [
    "misclassified = list(filter(lambda sample: not(testY.iloc[sample[0]] == predictions[sample[0]]), enumerate(testX.iloc))) # enumerate to add indexes\n",
    "\n",
    "fig, axs = plt.subplots(1, len(misclassified), figsize=(15, 5))\n",
    "\n",
    "for i, sample in enumerate(misclassified):\n",
    "    axs[i].imshow(images[testY.index[sample[0]]], cmap=plt.cm.gray_r, interpolation='nearest') # show an image\n",
    "\n",
    "print(\"misclassifications:\", len(misclassified))\n",
    "print(\"guessed:\", list(map(lambda sample: predictions[sample[0]], misclassified)))\n",
    "print(\"answer:\", list(map(lambda sample: testY.iloc[sample[0]], misclassified)))"
   ]
  }
 ],
 "metadata": {
  "kernelspec": {
   "display_name": "Python 3 (ipykernel)",
   "language": "python",
   "name": "python3"
  },
  "language_info": {
   "codemirror_mode": {
    "name": "ipython",
    "version": 3
   },
   "file_extension": ".py",
   "mimetype": "text/x-python",
   "name": "python",
   "nbconvert_exporter": "python",
   "pygments_lexer": "ipython3",
   "version": "3.12.4"
  }
 },
 "nbformat": 4,
 "nbformat_minor": 5
}
