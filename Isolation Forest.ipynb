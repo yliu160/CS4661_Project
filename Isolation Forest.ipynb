{
 "cells": [
  {
   "cell_type": "code",
   "execution_count": 2,
   "id": "c561767f-db72-49d0-93ac-168df2b3198a",
   "metadata": {},
   "outputs": [],
   "source": [
    "# Steven Gonzales\n",
    "import sys # modules in sys.path directories's are all available for import\n",
    "sys.path.append('./DevelopedMethods')\n",
    "from preprocessing import * # import our pre-processed dataset + imports.py (np, pd, df, df_train, X_train_balanced etc.)"
   ]
  },
  {
   "cell_type": "code",
   "execution_count": null,
   "id": "e38750e7-536f-4c29-a571-19b6c1b7b48e",
   "metadata": {},
   "outputs": [],
   "source": []
  },
  {
   "cell_type": "markdown",
   "id": "aa11dc1c-c012-4a21-bec3-d69c69d321d8",
   "metadata": {},
   "source": [
    "# ROC / AUC"
   ]
  },
  {
   "cell_type": "code",
   "execution_count": null,
   "id": "031b8103-9487-415e-bbca-e2c2210f89a4",
   "metadata": {},
   "outputs": [],
   "source": []
  },
  {
   "cell_type": "markdown",
   "id": "535e31a6-9cb1-4115-a663-aaea2a10fe24",
   "metadata": {},
   "source": [
    "# Isolation Forest Feature Importance Analysis"
   ]
  },
  {
   "cell_type": "code",
   "execution_count": null,
   "id": "2e45c79e-ef5f-4562-a86a-1c6fa6df8842",
   "metadata": {},
   "outputs": [],
   "source": []
  }
 ],
 "metadata": {
  "kernelspec": {
   "display_name": "Python 3 (ipykernel)",
   "language": "python",
   "name": "python3"
  },
  "language_info": {
   "codemirror_mode": {
    "name": "ipython",
    "version": 3
   },
   "file_extension": ".py",
   "mimetype": "text/x-python",
   "name": "python",
   "nbconvert_exporter": "python",
   "pygments_lexer": "ipython3",
   "version": "3.12.4"
  }
 },
 "nbformat": 4,
 "nbformat_minor": 5
}
