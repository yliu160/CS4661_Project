{
 "cells": [
  {
   "cell_type": "code",
   "execution_count": 15,
   "id": "e4f09981-f05a-4304-b901-956ad1b0670b",
   "metadata": {},
   "outputs": [],
   "source": [
    "# Yongkang Liu\n",
    "import sys # modules in sys.path directories's are all available for import\n",
    "sys.path.append('./DevelopedMethods')\n",
    "from preprocessing import * # import our pre-processed dataset + imports.py (np, pd, df, df_train, X_train_balanced etc.)"
   ]
  },
  {
   "cell_type": "code",
   "execution_count": 29,
   "id": "ace60c23-7843-4c53-a040-1883cb807011",
   "metadata": {},
   "outputs": [
    {
     "name": "stdout",
     "output_type": "stream",
     "text": [
      "Mean Squared Error (MSE): 0.04908494807844559\n",
      "R-squared: 0.64658667137428\n"
     ]
    }
   ],
   "source": [
    "ccfd_linear_regression = linear_model.LinearRegression()\n",
    "ccfd_linear_regression.fit(X_train_balanced, y_train_balanced)\n",
    "\n",
    "# Make predictions on the test set\n",
    "ccfd_linear_regression_predictions = ccfd_linear_regression.predict(X_test_balanced)\n",
    "\n",
    "# Evaluate the model\n",
    "mse = metrics.mean_squared_error(y_test_balanced, ccfd_linear_regression_predictions)\n",
    "r_squared = metrics.r2_score(y_test_balanced, ccfd_linear_regression_predictions)\n",
    "\n",
    "# Print the evaluation metrics\n",
    "print(\"Mean Squared Error (MSE):\", mse)\n",
    "print(\"R-squared:\", r_squared)"
   ]
  },
  {
   "cell_type": "markdown",
   "id": "f978b335-6d0a-475c-b794-56b6c01bada8",
   "metadata": {},
   "source": [
    "# ROC / AUC \n",
    "predict_proba is for classification (so is fraud detection), linear regression is for continuous values, so linear regression is not a good choice for fraud detection."
   ]
  },
  {
   "cell_type": "markdown",
   "id": "72d14e7c-91a7-464c-9721-7877b709d7c9",
   "metadata": {},
   "source": [
    "# Feature importance Analysis Linear Regression"
   ]
  },
  {
   "cell_type": "code",
   "execution_count": 50,
   "id": "336ca973-0f8d-420a-8888-aa2caf34be1b",
   "metadata": {},
   "outputs": [
    {
     "data": {
      "text/html": [
       "<div>\n",
       "<style scoped>\n",
       "    .dataframe tbody tr th:only-of-type {\n",
       "        vertical-align: middle;\n",
       "    }\n",
       "\n",
       "    .dataframe tbody tr th {\n",
       "        vertical-align: top;\n",
       "    }\n",
       "\n",
       "    .dataframe thead th {\n",
       "        text-align: right;\n",
       "    }\n",
       "</style>\n",
       "<table border=\"1\" class=\"dataframe\">\n",
       "  <thead>\n",
       "    <tr style=\"text-align: right;\">\n",
       "      <th></th>\n",
       "      <th>Feature</th>\n",
       "      <th>Coefficient</th>\n",
       "    </tr>\n",
       "  </thead>\n",
       "  <tbody>\n",
       "    <tr>\n",
       "      <th>25</th>\n",
       "      <td>category_grocery_pos</td>\n",
       "      <td>0.193659</td>\n",
       "    </tr>\n",
       "    <tr>\n",
       "      <th>2</th>\n",
       "      <td>amt</td>\n",
       "      <td>0.150396</td>\n",
       "    </tr>\n",
       "    <tr>\n",
       "      <th>23</th>\n",
       "      <td>category_gas_transport</td>\n",
       "      <td>0.146813</td>\n",
       "    </tr>\n",
       "    <tr>\n",
       "      <th>32</th>\n",
       "      <td>category_shopping_net</td>\n",
       "      <td>0.136448</td>\n",
       "    </tr>\n",
       "    <tr>\n",
       "      <th>33</th>\n",
       "      <td>category_shopping_pos</td>\n",
       "      <td>0.116231</td>\n",
       "    </tr>\n",
       "    <tr>\n",
       "      <th>...</th>\n",
       "      <td>...</td>\n",
       "      <td>...</td>\n",
       "    </tr>\n",
       "    <tr>\n",
       "      <th>20</th>\n",
       "      <td>minute</td>\n",
       "      <td>-0.000913</td>\n",
       "    </tr>\n",
       "    <tr>\n",
       "      <th>12</th>\n",
       "      <td>job</td>\n",
       "      <td>0.000900</td>\n",
       "    </tr>\n",
       "    <tr>\n",
       "      <th>21</th>\n",
       "      <td>second</td>\n",
       "      <td>-0.000436</td>\n",
       "    </tr>\n",
       "    <tr>\n",
       "      <th>4</th>\n",
       "      <td>last</td>\n",
       "      <td>-0.000405</td>\n",
       "    </tr>\n",
       "    <tr>\n",
       "      <th>45</th>\n",
       "      <td>state_HI</td>\n",
       "      <td>0.000339</td>\n",
       "    </tr>\n",
       "  </tbody>\n",
       "</table>\n",
       "<p>85 rows × 2 columns</p>\n",
       "</div>"
      ],
      "text/plain": [
       "                   Feature  Coefficient\n",
       "25    category_grocery_pos     0.193659\n",
       "2                      amt     0.150396\n",
       "23  category_gas_transport     0.146813\n",
       "32   category_shopping_net     0.136448\n",
       "33   category_shopping_pos     0.116231\n",
       "..                     ...          ...\n",
       "20                  minute    -0.000913\n",
       "12                     job     0.000900\n",
       "21                  second    -0.000436\n",
       "4                     last    -0.000405\n",
       "45                state_HI     0.000339\n",
       "\n",
       "[85 rows x 2 columns]"
      ]
     },
     "execution_count": 50,
     "metadata": {},
     "output_type": "execute_result"
    }
   ],
   "source": [
    "importance = pd.DataFrame({'Feature': X_test_balanced.columns, 'Coefficient': ccfd_linear_regression.coef_}).sort_values(by='Coefficient', key=abs, ascending=False)  # sort by coefficient\n",
    "importance"
   ]
  },
  {
   "cell_type": "code",
   "execution_count": 38,
   "id": "a41f729a-1d07-43b1-af0c-9bea887ada9e",
   "metadata": {},
   "outputs": [],
   "source": [
    "# Linear Regression Results and Observations\n",
    "\n",
    "# The Linear Regression model was applied to predict the 'is_fraud' target variable.\n",
    "# Results:\n",
    "# - Mean Squared Error (MSE): 0.003736869382023784\n",
    "# - R-squared: 0.02811377161426476\n",
    "\n",
    "# Observations:\n",
    "# 1. The R-squared value (~2.81%) indicates that the model explains only a small portion of the variance.\n",
    "# 2. This result is expected because fraud detection often involves non-linear relationships \n",
    "#    that Linear Regression cannot capture effectively.\n",
    "# 3. The dataset might have imbalanced classes (fewer fraudulent transactions), making it \n",
    "#    harder for the Linear Regression model to generalize.\n",
    "\n",
    "# Recommendations:\n",
    "# - Use this model as a baseline to compare with other advanced algorithms.\n",
    "# - Consider using non-linear models like Random Forest or Logistic Regression \n",
    "#   for better performance in future tasks.\n",
    "# - Address class imbalance using techniques like SMOTE for improved learning.\n",
    "# - Perform feature selection or engineering to identify stronger predictors of fraud."
   ]
  }
 ],
 "metadata": {
  "kernelspec": {
   "display_name": "Python 3 (ipykernel)",
   "language": "python",
   "name": "python3"
  },
  "language_info": {
   "codemirror_mode": {
    "name": "ipython",
    "version": 3
   },
   "file_extension": ".py",
   "mimetype": "text/x-python",
   "name": "python",
   "nbconvert_exporter": "python",
   "pygments_lexer": "ipython3",
   "version": "3.12.4"
  }
 },
 "nbformat": 4,
 "nbformat_minor": 5
}
