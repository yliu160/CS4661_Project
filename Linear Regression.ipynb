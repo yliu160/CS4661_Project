{
 "cells": [
  {
   "cell_type": "code",
   "execution_count": null,
   "id": "e4f09981-f05a-4304-b901-956ad1b0670b",
   "metadata": {},
   "outputs": [],
   "source": [
    "# Yongkang Liu\n",
    "import sys # modules in sys.path directories's are all available for import\n",
    "sys.path.append('./DevelopedMethods')\n",
    "from preprocessing import * # import our pre-processed dataset + imports.py (np, pd, df, df_train, X_train_balanced etc.)"
   ]
  },
  {
   "cell_type": "code",
   "execution_count": null,
   "id": "ace60c23-7843-4c53-a040-1883cb807011",
   "metadata": {},
   "outputs": [],
   "source": [
    "# your classifier here"
   ]
  },
  {
   "cell_type": "markdown",
   "id": "f978b335-6d0a-475c-b794-56b6c01bada8",
   "metadata": {},
   "source": [
    "# ROC / AUC"
   ]
  },
  {
   "cell_type": "code",
   "execution_count": 1,
   "id": "28ff2d14-60e4-4df2-9201-3ca78c6b6c75",
   "metadata": {},
   "outputs": [],
   "source": [
    "# #Estimating the probability of Credit Card Fraud Label\n",
    "# yourclassifier__prediction_probability = yourclassfier.predict_proba(X_test_balanced)\n",
    "\n",
    "# #Calculating true positive rate(tpr) and false positive rate(fpr)\n",
    "# fpr, tpr, thresholds = metrics.roc_curve(y_test_balanced, yourclassifier_prediction_probability[:,1], pos_label=1)\n",
    "\n",
    "# #Calculating Area Under Curve\n",
    "# AUC = metrics.auc(fpr, tpr)\n",
    "# print(\"Area Under Curve: \")\n",
    "# print(AUC)\n",
    "\n",
    "# #Plotting graph for ROC Curve\n",
    "# plt.figure()\n",
    "# plt.plot(fpr, tpr, color='red', lw=2, label='ROC Curve (area = %0.2f) ' % AUC)\n",
    "\n",
    "# #Defining range of x and y axes\n",
    "# plt.xlim([-0.005, 1.005])\n",
    "# plt.ylim([0.0, 1.01])\n",
    "\n",
    "# #Defining labels, title and legend for graph\n",
    "# plt.xlabel(\"False Positive Rate\")\n",
    "# plt.ylabel(\"True Positive Rate\")\n",
    "# plt.title(\"Receiver Operating Characteristic\")\n",
    "# plt.legend(loc='lower right');"
   ]
  },
  {
   "cell_type": "markdown",
   "id": "0156e6cc-4e4d-44eb-b144-b858b251b9f2",
   "metadata": {},
   "source": [
    "# Feature importance Analysis Linear Regression\n",
    "Linear Regression provides feature importance directly via the coefficients of the model.\n",
    "Larger absolute values of coefficients indicate greater importance.\n",
    "Standardize features if they are on different scales to make coefficients comparable.\n",
    "```# Access coefficients\n",
    "importance_df = pd.DataFrame({\n",
    "    'Feature': feature_names,\n",
    "    'Coefficient': linear_model.coef_\n",
    "}).sort_values(by='Coefficient', key=abs, ascending=False)```\n"
   ]
  },
  {
   "cell_type": "code",
   "execution_count": null,
   "id": "a41f729a-1d07-43b1-af0c-9bea887ada9e",
   "metadata": {},
   "outputs": [],
   "source": []
  }
 ],
 "metadata": {
  "kernelspec": {
   "display_name": "Python 3 (ipykernel)",
   "language": "python",
   "name": "python3"
  },
  "language_info": {
   "codemirror_mode": {
    "name": "ipython",
    "version": 3
   },
   "file_extension": ".py",
   "mimetype": "text/x-python",
   "name": "python",
   "nbconvert_exporter": "python",
   "pygments_lexer": "ipython3",
   "version": "3.12.4"
  }
 },
 "nbformat": 4,
 "nbformat_minor": 5
}
